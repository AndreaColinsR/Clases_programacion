{
 "cells": [
  {
   "cell_type": "markdown",
   "id": "bf07fb16-d019-4460-97b8-580d191c6a5f",
   "metadata": {},
   "source": [
    "# Clase 7"
   ]
  },
  {
   "cell_type": "markdown",
   "id": "445cc0c5-127b-4b4e-b88f-4275f9f99c16",
   "metadata": {},
   "source": [
    "## Definiendo listas "
   ]
  },
  {
   "cell_type": "code",
   "execution_count": null,
   "id": "d41670d5-8169-4be8-85e1-ccfc2210e33d",
   "metadata": {
    "scrolled": true
   },
   "outputs": [],
   "source": [
    "# Definiendo variables listas en Python\n",
    "listaNum = [1,2,3,4]\n",
    "print(listaNum)"
   ]
  },
  {
   "cell_type": "code",
   "execution_count": null,
   "id": "f73b19cd-8d0d-481e-9328-28528e6377f7",
   "metadata": {},
   "outputs": [],
   "source": [
    "ListaMix = ['Tengo', 1, 'Perro']\n",
    "print(ListaMix)"
   ]
  },
  {
   "cell_type": "code",
   "execution_count": null,
   "id": "f826900f-f1b7-49a0-8438-5d8eef6ed43c",
   "metadata": {},
   "outputs": [],
   "source": [
    "print(ListaMix[0])"
   ]
  },
  {
   "cell_type": "code",
   "execution_count": null,
   "id": "b812c27f-33b9-434f-92bc-b09c00b29369",
   "metadata": {},
   "outputs": [],
   "source": [
    "ListaMix[1] = 3\n",
    "ListaMix[2]='Perros'\n",
    "print(ListaMix)"
   ]
  },
  {
   "cell_type": "markdown",
   "id": "c16f4d8c-df8f-49c1-989c-d3709f81db9f",
   "metadata": {},
   "source": [
    "## Ejercicio"
   ]
  },
  {
   "cell_type": "code",
   "execution_count": 7,
   "id": "43ef71aa-fee4-4d9e-8695-8fc0b79b3255",
   "metadata": {},
   "outputs": [
    {
     "name": "stdout",
     "output_type": "stream",
     "text": [
      "[1, 2, 3, 4, 5] \n",
      "\n"
     ]
    }
   ],
   "source": [
    "#MiLista = [1,2,3,4,5]\n",
    "#alternativa\n",
    "MiLista = list(range(1,6))\n",
    "print(MiLista,'\\n')"
   ]
  },
  {
   "cell_type": "code",
   "execution_count": 8,
   "id": "c763f71a-c580-4512-9a92-d46aec8b4a2a",
   "metadata": {},
   "outputs": [
    {
     "name": "stdout",
     "output_type": "stream",
     "text": [
      "[6, 7, 8, 9, 10] \n",
      "\n"
     ]
    }
   ],
   "source": [
    "MiLista2 = [6,7,8,9,10]\n",
    "#alternativa\n",
    "MiLista2 = list(range(6,11))\n",
    "print(MiLista2,'\\n')"
   ]
  },
  {
   "cell_type": "code",
   "execution_count": 9,
   "id": "4330df7d-f9cf-4601-8078-df0d4c8fca4a",
   "metadata": {},
   "outputs": [
    {
     "name": "stdout",
     "output_type": "stream",
     "text": [
      "[1, 2, 3, 4, 5, 6, 7, 8, 9, 10] \n",
      "\n",
      "[1, 2, 3, 4, 5, 1, 2, 3, 4, 5, 1, 2, 3, 4, 5, 1, 2, 3, 4, 5] \n",
      "\n"
     ]
    }
   ],
   "source": [
    "print(MiLista+MiLista2,'\\n')\n",
    "\n",
    "print(4*MiLista,'\\n')\n",
    "\n",
    "#print(MiLista-MiLista2,'\\n')"
   ]
  },
  {
   "cell_type": "markdown",
   "id": "645e0869-9533-4405-b2a7-7c66753eba64",
   "metadata": {},
   "source": [
    "## Lista de Listas"
   ]
  },
  {
   "cell_type": "code",
   "execution_count": 14,
   "id": "c3c9715e-572a-4eaf-8472-33b9045b49f1",
   "metadata": {
    "editable": true,
    "slideshow": {
     "slide_type": ""
    },
    "tags": []
   },
   "outputs": [
    {
     "name": "stdout",
     "output_type": "stream",
     "text": [
      "[[1, 2, 3], [4, 5, 6], [7, 8, 9]]\n",
      "1\n",
      "[4, 5]\n"
     ]
    }
   ],
   "source": [
    "ListaDListas=[[1,2,3],[4,5,6],[7,8,9]]\n",
    "print(ListaDListas)\n",
    "print(ListaDListas[0][0])\n",
    "print(ListaDListas[1][:2])"
   ]
  },
  {
   "cell_type": "markdown",
   "id": "9a3c1ca0-43ae-455b-8014-925f6971bc24",
   "metadata": {
    "jp-MarkdownHeadingCollapsed": true
   },
   "source": [
    "## Ojo cuando hacen una copia de una de variables en Python"
   ]
  },
  {
   "cell_type": "code",
   "execution_count": null,
   "id": "10e9d77c-8565-4dc7-b02d-987d0d03ecd2",
   "metadata": {},
   "outputs": [],
   "source": [
    "\n",
    "Var1=[1,2]\n",
    "print('Var1 = ',Var1,'\\n')\n",
    "\n",
    "## creando copia de la variable Var1\n",
    "Var_copy=Var1\n",
    "\n",
    "# Modificando las copias\n",
    "Var_copy[0]=3 # Var_copy=[3,2]\n",
    "\n",
    "print('Mirando los nuevos valores')\n",
    "print('Var_copy = ',Var_copy)\n",
    "print('Var1 = ',Var1)\n"
   ]
  },
  {
   "cell_type": "code",
   "execution_count": null,
   "id": "6f6ee9e1-a938-41ad-8da0-22545534ba3e",
   "metadata": {},
   "outputs": [],
   "source": [
    "# Creando una copia de los valores, no del espacio de memoria\n",
    "Var1=[1,2]\n",
    "print('Var1 = ',Var1,'\\n')\n",
    "Var_copy2=Var1.copy()\n",
    "Var_copy2[0]=3\n",
    "\n",
    "print('Mirando los nuevos valores')\n",
    "print('Var_copy2 = ',Var_copy2)\n",
    "print('Var1 = ',Var1)"
   ]
  },
  {
   "cell_type": "markdown",
   "id": "ab8a710d-064f-41e4-a67b-83510b9f9fad",
   "metadata": {},
   "source": [
    "## Numpy arrays"
   ]
  },
  {
   "cell_type": "code",
   "execution_count": 11,
   "id": "6e19ae40-8b6e-445e-b075-c1b63f26755b",
   "metadata": {
    "editable": true,
    "slideshow": {
     "slide_type": ""
    },
    "tags": []
   },
   "outputs": [],
   "source": [
    "import numpy as np"
   ]
  },
  {
   "cell_type": "code",
   "execution_count": 15,
   "id": "3d7f4e09-e973-489c-8542-8a376e8133df",
   "metadata": {},
   "outputs": [
    {
     "name": "stdout",
     "output_type": "stream",
     "text": [
      "[[1 2 3]\n",
      " [4 5 6]\n",
      " [7 8 9]]\n"
     ]
    }
   ],
   "source": [
    "Matriz=np.array(ListaDListas)\n",
    "print(Matriz)"
   ]
  },
  {
   "cell_type": "code",
   "execution_count": 16,
   "id": "c1223d2f-78e5-4e3a-be8f-ea97163ab049",
   "metadata": {},
   "outputs": [
    {
     "name": "stdout",
     "output_type": "stream",
     "text": [
      "[ 0  1  2  3  4  5  6  7  8  9 10 11]\n"
     ]
    }
   ],
   "source": [
    "Rango=np.arange(12)\n",
    "print(Rango)"
   ]
  },
  {
   "cell_type": "code",
   "execution_count": 17,
   "id": "aff49715-e881-4035-8cf5-d981ad80333a",
   "metadata": {},
   "outputs": [
    {
     "name": "stdout",
     "output_type": "stream",
     "text": [
      "[ 5  6  7  8  9 10 11]\n"
     ]
    }
   ],
   "source": [
    "Rango=np.arange(5,12)\n",
    "print(Rango)"
   ]
  },
  {
   "cell_type": "code",
   "execution_count": 18,
   "id": "1fc5fea7-dc40-423a-863e-f194bd8c3229",
   "metadata": {},
   "outputs": [
    {
     "name": "stdout",
     "output_type": "stream",
     "text": [
      "[[1. 1. 1.]\n",
      " [1. 1. 1.]\n",
      " [1. 1. 1.]\n",
      " [1. 1. 1.]]\n"
     ]
    }
   ],
   "source": [
    "Unos=np.ones([4,3])\n",
    "print(Unos)"
   ]
  },
  {
   "cell_type": "code",
   "execution_count": 19,
   "id": "94ca8dab-d45e-4b62-9173-9649cc7357b7",
   "metadata": {},
   "outputs": [
    {
     "name": "stdout",
     "output_type": "stream",
     "text": [
      "[[0. 0. 0.]\n",
      " [0. 0. 0.]\n",
      " [0. 0. 0.]\n",
      " [0. 0. 0.]]\n"
     ]
    }
   ],
   "source": [
    "Ceros=np.zeros([4,3])\n",
    "print(Ceros)\n",
    "#print(np.shape(Ceros))"
   ]
  },
  {
   "cell_type": "markdown",
   "id": "f51f282d-b557-419c-8145-729e8e17caef",
   "metadata": {},
   "source": [
    "## Ejercicio"
   ]
  },
  {
   "cell_type": "code",
   "execution_count": 20,
   "id": "5ecca90b-3d70-4a9f-b7b2-c7cfaffeca75",
   "metadata": {},
   "outputs": [
    {
     "name": "stdout",
     "output_type": "stream",
     "text": [
      "[[2. 2. 2.]\n",
      " [2. 2. 2.]\n",
      " [2. 2. 2.]] \n",
      "\n",
      "[[ 1  4  9]\n",
      " [16 25 36]\n",
      " [49 64 81]] \n",
      "\n"
     ]
    }
   ],
   "source": [
    "Matriz=np.array(ListaDListas)\n",
    "Matriz2=np.zeros([3,3])+2\n",
    "\n",
    "#Alternativa\n",
    "Matriz2=np.zeros(np.shape(Matriz))+2\n",
    "\n",
    "print(Matriz2,'\\n')\n",
    "print(Matriz**2,'\\n')"
   ]
  },
  {
   "cell_type": "code",
   "execution_count": 21,
   "id": "6a2b46ad-c580-4dd9-a368-96d0e0674f51",
   "metadata": {},
   "outputs": [
    {
     "name": "stdout",
     "output_type": "stream",
     "text": [
      "[4. 5. 6.]\n"
     ]
    }
   ],
   "source": [
    "#mean of each column\n",
    "print(np.mean(Matriz,axis=0))"
   ]
  },
  {
   "cell_type": "code",
   "execution_count": null,
   "id": "e1f42b08-cbe6-45e2-b286-09985600d4a1",
   "metadata": {},
   "outputs": [],
   "source": [
    "#mean of each row\n",
    "print(np.mean(Matriz,axis=1))"
   ]
  },
  {
   "cell_type": "code",
   "execution_count": null,
   "id": "249aa4da-9af4-4eb0-a246-86577be4967a",
   "metadata": {},
   "outputs": [],
   "source": [
    "#mean of all elements\n",
    "print(np.mean(Matriz))"
   ]
  },
  {
   "cell_type": "markdown",
   "id": "e9909123-b3a0-408f-a67b-7796581d1620",
   "metadata": {},
   "source": [
    "## Indexing"
   ]
  },
  {
   "cell_type": "code",
   "execution_count": null,
   "id": "1c2e2679-da4a-4025-8dba-89c6b0fd52e8",
   "metadata": {},
   "outputs": [],
   "source": [
    "print(Matriz[0,1])"
   ]
  },
  {
   "cell_type": "code",
   "execution_count": null,
   "id": "57665da0-00b1-4504-a6c4-b009243735d1",
   "metadata": {},
   "outputs": [],
   "source": [
    "print(Matriz[2][0:2])"
   ]
  },
  {
   "cell_type": "code",
   "execution_count": null,
   "id": "9119c956-967b-4ab9-8e0d-61fb4520de77",
   "metadata": {},
   "outputs": [],
   "source": [
    "print(Matriz[:,1:2])\n",
    "# ojo que no es exactamente lo mismo que Matriz[:,1]"
   ]
  },
  {
   "cell_type": "code",
   "execution_count": null,
   "id": "ae69b2bd-4de2-4b14-9750-70401340f5df",
   "metadata": {},
   "outputs": [],
   "source": [
    "print(Matriz>5)"
   ]
  },
  {
   "cell_type": "code",
   "execution_count": null,
   "id": "0692252c-add8-49c4-afde-0d78eeb11a15",
   "metadata": {},
   "outputs": [],
   "source": [
    "print(Matriz[Matriz>5])"
   ]
  },
  {
   "cell_type": "code",
   "execution_count": null,
   "id": "d68c1650-9c0a-4303-900d-646891187407",
   "metadata": {},
   "outputs": [],
   "source": [
    "ind=Matriz[1,:]>=5\n",
    "print(ind)\n",
    "print(Matriz[1,ind])"
   ]
  },
  {
   "cell_type": "markdown",
   "id": "a4fa9cd2-34e3-462e-9732-9dbc4914c522",
   "metadata": {},
   "source": [
    "## Ejercicio"
   ]
  },
  {
   "cell_type": "code",
   "execution_count": 25,
   "id": "bcb339c1-95f7-4788-a9a4-bcc22f3318de",
   "metadata": {},
   "outputs": [
    {
     "name": "stdout",
     "output_type": "stream",
     "text": [
      "[[  1.   2.   3.   4.   5.   6.]\n",
      " [  1.   0.   0.   0.   0.   1.]\n",
      " [  1.   0. 100.   0.   0.   1.]\n",
      " [  1.   0.   0.   0.   0.   1.]\n",
      " [  1.   1.   1.   1.   1.   1.]] \n",
      "\n"
     ]
    }
   ],
   "source": [
    "Base = np.ones([5,6])\n",
    "Base[1:4,1:5]=0\n",
    "Base[2,2]=100\n",
    "Base[0,:]=np.arange(1,7)\n",
    "\n",
    "print(Base,'\\n')"
   ]
  },
  {
   "cell_type": "code",
   "execution_count": null,
   "id": "4ab8ebc5-4644-4057-9909-1b90c65c11aa",
   "metadata": {},
   "outputs": [],
   "source": []
  },
  {
   "cell_type": "code",
   "execution_count": null,
   "id": "c73da2b1-6cc1-43de-8054-fb46ff87f943",
   "metadata": {},
   "outputs": [],
   "source": []
  }
 ],
 "metadata": {
  "kernelspec": {
   "display_name": "Python 3 (ipykernel)",
   "language": "python",
   "name": "python3"
  },
  "language_info": {
   "codemirror_mode": {
    "name": "ipython",
    "version": 3
   },
   "file_extension": ".py",
   "mimetype": "text/x-python",
   "name": "python",
   "nbconvert_exporter": "python",
   "pygments_lexer": "ipython3",
   "version": "3.11.4"
  }
 },
 "nbformat": 4,
 "nbformat_minor": 5
}

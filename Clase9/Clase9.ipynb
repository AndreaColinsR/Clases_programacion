{
 "cells": [
  {
   "cell_type": "markdown",
   "id": "39c21969-de37-4042-9161-19395aa261d3",
   "metadata": {},
   "source": [
    "# Ciclos\n",
    "\n",
    "### En este notebook:\n",
    "0. Ejemplo motivación\n",
    "1. Instruccion **for**\n",
    "2. Instruccion **while**"
   ]
  },
  {
   "cell_type": "markdown",
   "id": "ed53a79e-4240-4b41-a321-065429390ac0",
   "metadata": {},
   "source": [
    "### Ejemplo clase anterior: Buscando el promedio de las edades"
   ]
  },
  {
   "cell_type": "code",
   "execution_count": null,
   "id": "20d04d91-8672-47d7-aad9-32087f291f20",
   "metadata": {},
   "outputs": [],
   "source": [
    "# Definir vector edades con un punto en el primer elemento\n",
    "edades = ['.',27.26,22.12,27.51,36.58,\n",
    "          3,24.61,22.45,31.6,18.75,\n",
    "          24.62,20.35,28.49,26.81,31.04,\n",
    "          37.86,22.32,19.12]"
   ]
  },
  {
   "cell_type": "code",
   "execution_count": null,
   "id": "5886eb41-63dc-4988-adac-7236ccb9849c",
   "metadata": {},
   "outputs": [],
   "source": [
    "# Si el primer elemento de la lista es un punto, entonces reemplazar por nan\n",
    "import numpy as np\n",
    "if edades[0]=='.':\n",
    "    edades[0]=np.nan\n",
    "\n",
    "#convertir a numpy array\n",
    "edades_np=np.array(edades)\n",
    "# calcular el promedio ignorando nans\n",
    "promedio_edad=np.nanmean(edades_np)\n",
    "print(promedio_edad)"
   ]
  },
  {
   "cell_type": "markdown",
   "id": "88e1334e-a9c7-4744-9268-4f4e30fc9f37",
   "metadata": {},
   "source": [
    "## Como hacerlo si queremos verificar cada elemento"
   ]
  },
  {
   "cell_type": "code",
   "execution_count": null,
   "id": "e8527ed6-0a34-4333-b4a5-6b0f1f4d85ba",
   "metadata": {},
   "outputs": [],
   "source": [
    "# Definir vector edades con puntos en en el **cualquier** elemento\n",
    "edades = ['.',27.26,22.12,27.51,36.58,\n",
    "          3,24.61,22.45,31.6,18.75,'.',\n",
    "          24.62,20.35,28.49,'.',26.81,31.04,\n",
    "          37.86,22.32,19.12]\n",
    "\n",
    "# Verificar si cada elemento contiene un punto\n",
    "if edades[1]=='.':\n",
    "    edades[1]=np.nan\n",
    "\n",
    "if edades[2]=='.':\n",
    "    edades[2]=np.nan\n",
    "\n",
    "if edades[3]=='.':\n",
    "    edades[3]=np.nan  \n",
    "## etc etc"
   ]
  },
  {
   "cell_type": "markdown",
   "id": "58592594-07c8-4409-9453-4e41d84fa462",
   "metadata": {},
   "source": [
    "## Ciclo- for"
   ]
  },
  {
   "cell_type": "code",
   "execution_count": null,
   "id": "38d36ca5-4bb7-475c-9945-0e60473d40c6",
   "metadata": {},
   "outputs": [],
   "source": [
    "for x in [1,2,3,4,5]:\n",
    "  print(x)"
   ]
  },
  {
   "cell_type": "code",
   "execution_count": null,
   "id": "77ad2170-509f-426e-bbe5-5c8986ebfc26",
   "metadata": {},
   "outputs": [],
   "source": [
    "# ejemplo con pause\n",
    "import time \n",
    "for x in [1,2,3,4,5]:\n",
    "    print(x)\n",
    "    time.sleep(1) # pausar de 1 segundo"
   ]
  },
  {
   "cell_type": "code",
   "execution_count": null,
   "id": "d08bdaba-8811-4151-b1e2-12306c3744bb",
   "metadata": {},
   "outputs": [],
   "source": [
    "for x in ['Peras','Manzanas','Naranjas']:\n",
    "  print(x)"
   ]
  },
  {
   "cell_type": "code",
   "execution_count": null,
   "id": "786d808e-98a9-4e08-9626-50b7d88ea38c",
   "metadata": {},
   "outputs": [],
   "source": [
    "frutas=['Peras','Manzanas','Naranjas']\n",
    "contador=1\n",
    "\n",
    "for i in frutas:\n",
    "    print('Fruta Numero ', contador,' = ',i)\n",
    "    contador=contador+1 ##actualizar variable"
   ]
  },
  {
   "cell_type": "code",
   "execution_count": null,
   "id": "d5b8b1f3-35ce-4503-9a69-d844ffece1c5",
   "metadata": {},
   "outputs": [],
   "source": [
    "# Lista del super\n",
    "frutas=['Peras','Manzanas','Naranjas']\n",
    "unidades=[3, 1, 6]\n",
    "contador=0\n",
    "\n",
    "print('Comprar: \\n')\n",
    "\n",
    "for i in frutas:\n",
    "    print(unidades[contador],' ',i)\n",
    "    contador=contador+1 ##actualizar variable"
   ]
  },
  {
   "cell_type": "markdown",
   "id": "56fe027a-3b50-4bc5-8c4f-78f0145cc09f",
   "metadata": {},
   "source": [
    "### Ejercicio"
   ]
  },
  {
   "cell_type": "code",
   "execution_count": null,
   "id": "f7141838-3979-460a-a2a9-107e12f07049",
   "metadata": {},
   "outputs": [],
   "source": [
    "Dias=['Lunes','Martes','Miercoles','Jueves','Viernes','Sabado','Domingo']\n",
    "contador=1\n",
    "for i in Dias:\n",
    "    print(i,' es el dia ',contador,'de la semana')\n",
    "    contador=contador+1\n",
    "    \n"
   ]
  },
  {
   "cell_type": "markdown",
   "id": "487c4a7a-ec8a-49b0-ba25-87a17492f50c",
   "metadata": {},
   "source": [
    "### Contar cuantos numero son menores o iguales que 5"
   ]
  },
  {
   "cell_type": "code",
   "execution_count": null,
   "id": "5a84af33-83b1-44e8-a481-0e36cdff0628",
   "metadata": {},
   "outputs": [],
   "source": [
    "import numpy as np\n",
    "\n",
    "RandN=np.random.randint(10, size=(10,1))\n",
    "counter=0\n",
    "\n",
    "print(RandN)\n",
    "\n",
    "for i in RandN:\n",
    "    if i<=5:\n",
    "        counter=counter+1\n",
    "\n",
    "print(counter, 'numeros son menores o iguales que 5')"
   ]
  },
  {
   "cell_type": "code",
   "execution_count": null,
   "id": "9db07250-9824-426f-9320-aeb3f203b88d",
   "metadata": {},
   "outputs": [],
   "source": [
    "cadena = 'Python'\n",
    "for letra in cadena:\n",
    "    if letra == 'h':\n",
    "        print(\"Se encontró la h\")\n",
    "        break\n",
    "    print(letra)"
   ]
  },
  {
   "cell_type": "code",
   "execution_count": null,
   "id": "24c023d8-c868-4b87-9511-8628eaf8024f",
   "metadata": {},
   "outputs": [],
   "source": [
    "### Calcular el promedio de la columna"
   ]
  },
  {
   "cell_type": "code",
   "execution_count": null,
   "id": "624c4c4c-a289-4ad5-ba18-676ace4f3893",
   "metadata": {},
   "outputs": [],
   "source": [
    "# Definir vector edades con puntos en en el **cualquier** elemento\n",
    "edades = ['.',27.26,22.12,27.51,36.58,'.','.',\n",
    "          3,24.61,22.45,31.6,18.75,\n",
    "          24.62,20.35,28.49,26.81,31.04,\n",
    "          37.86,22.32,19.12]\n",
    "\n",
    "# implementar un ciclo para verificar todos los elementos\n",
    "for i in np.arange(0,len(edades)):\n",
    "    if edades[i]=='.':\n",
    "        edades[i]=np.nan  \n",
    "\n",
    "print(edades)\n",
    "\n",
    "edades_clean=np.array(edades)\n",
    "\n",
    "print('El promedio de las edades es =', np.nanmean(edades_clean))"
   ]
  },
  {
   "cell_type": "code",
   "execution_count": null,
   "id": "70c783f8-0f8d-4368-9116-5f3f555ef5d9",
   "metadata": {},
   "outputs": [],
   "source": []
  },
  {
   "cell_type": "markdown",
   "id": "890e1bee-fa0a-4d07-8295-637957d7ffc4",
   "metadata": {},
   "source": [
    "## Ciclo - while"
   ]
  },
  {
   "cell_type": "code",
   "execution_count": null,
   "id": "f8e781f9-e980-49ea-b5a6-820f9ce62dfc",
   "metadata": {},
   "outputs": [],
   "source": [
    "i = 1\n",
    "while i < 6:\n",
    "  print(i)\n",
    "  i += 1"
   ]
  },
  {
   "cell_type": "code",
   "execution_count": null,
   "id": "cc131e09-82e4-4657-81bd-d6ba7b6ae201",
   "metadata": {},
   "outputs": [],
   "source": [
    "## LOOP INFINITO\n",
    "## CUIDADO \n",
    "## GUARDEN SU PROGRESO ANTES DE EJECUTAR\n",
    "## EL COMPUTADOR SE PUEDE PEGAR\n",
    "i = 1\n",
    "while i < 6:\n",
    "  print(i)\n",
    "  i = 1"
   ]
  },
  {
   "cell_type": "code",
   "execution_count": null,
   "id": "5be12bad-b81f-41c3-b887-1d72cc048a5b",
   "metadata": {},
   "outputs": [],
   "source": [
    "## encontrar la potencia de dos mas cercana a 50 \n",
    "## que sea menor que 50\n",
    "i = 1\n",
    "while i <= 50:\n",
    "    print(i)\n",
    "    i = 2*i"
   ]
  },
  {
   "cell_type": "code",
   "execution_count": null,
   "id": "d88e0478-04e3-4e3f-aa99-c7db7bdfa6c0",
   "metadata": {},
   "outputs": [],
   "source": [
    "numero = int(input(\"Escriba un número positivo: \"))\n",
    "while numero < 0:\n",
    "    \n",
    "    print(\"¡Ha escrito un número negativo! Inténtelo de nuevo \\n\")\n",
    "    numero = int(input(\"Escriba un número positivo: \"))\n",
    "\n",
    "print(numero,\" es un numero positivo.\\n Gracias por participar\")"
   ]
  },
  {
   "cell_type": "markdown",
   "id": "21909014-25d6-4f37-94d0-214eceb31e6c",
   "metadata": {},
   "source": [
    "## Ejercicio - while"
   ]
  },
  {
   "cell_type": "code",
   "execution_count": null,
   "id": "171addf7-684e-45e0-863f-ca3c81e44889",
   "metadata": {},
   "outputs": [],
   "source": [
    "# Dias de la semana con un while\n",
    "\n",
    "Dias=['Lunes','Martes','Miercoles','Jueves','Viernes','Sabado','Domingo']\n",
    "contador=1\n",
    "\n",
    "while contador<=len(Dias):\n",
    "    \n",
    "    print(Dias[contador-1],' es el dia ',contador,'de la semana')\n",
    "    \n",
    "    contador=contador+1\n",
    "    "
   ]
  },
  {
   "cell_type": "code",
   "execution_count": null,
   "id": "163b5b5c-ed91-4213-8abb-dfb97ed777a5",
   "metadata": {},
   "outputs": [],
   "source": [
    "# maximo 5 intentos\n",
    "numero = int(input(\"Escriba un número positivo: \"))\n",
    "contador=1\n",
    "while numero < 0:\n",
    "    \n",
    "    print(\"¡Ha escrito un número negativo! Inténtelo de nuevo \\n\")\n",
    "    numero = int(input(\"Escriba un número positivo: \"))\n",
    "    \n",
    "    contador=contador+1\n",
    "    \n",
    "    if contador>=5:\n",
    "        print('Se acabaron los intentos\\n')\n",
    "        break\n",
    "    \n",
    "if numero>=0:\n",
    "    print(numero,\" es un numero positivo.\\n \\n Gracias por participar\")"
   ]
  },
  {
   "cell_type": "code",
   "execution_count": null,
   "id": "7b6f2d91-37d5-4c3e-a3f0-8405cda0758a",
   "metadata": {},
   "outputs": [],
   "source": [
    "edades = ['.',27.26,22.12,27.51,36.58,'.','.',\n",
    "          3,24.61,22.45,31.6,18.75,\n",
    "          24.62,20.35,28.49,26.81,31.04,\n",
    "          37.86,22.32,19.12]\n",
    "# cuantos puntos hay en edades?\n",
    "# condicion inicial\n",
    "count = edades.count('.')\n",
    "print('Hay ',count,'puntos \\n')\n",
    "\n",
    "## borrar el primer punto\n",
    "while count>0:\n",
    "    #borrar el primer punto\n",
    "    edades.remove('.')\n",
    "    #actualizar la condicion\n",
    "    count = edades.count('.')\n",
    "    print(count)\n",
    "    \n",
    "edades_clean2=np.array(edades)\n",
    "\n",
    "print('El promedio es =',np.mean(edades_clean2),'\\n')"
   ]
  },
  {
   "cell_type": "code",
   "execution_count": null,
   "id": "19990ab3-b214-4785-97ac-28b1fb558865",
   "metadata": {},
   "outputs": [],
   "source": []
  }
 ],
 "metadata": {
  "kernelspec": {
   "display_name": "Python 3 (ipykernel)",
   "language": "python",
   "name": "python3"
  },
  "language_info": {
   "codemirror_mode": {
    "name": "ipython",
    "version": 3
   },
   "file_extension": ".py",
   "mimetype": "text/x-python",
   "name": "python",
   "nbconvert_exporter": "python",
   "pygments_lexer": "ipython3",
   "version": "3.11.4"
  }
 },
 "nbformat": 4,
 "nbformat_minor": 5
}

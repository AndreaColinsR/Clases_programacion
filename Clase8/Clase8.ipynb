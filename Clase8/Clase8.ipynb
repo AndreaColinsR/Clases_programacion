{
 "cells": [
  {
   "cell_type": "markdown",
   "id": "7f78f49c-25f3-48c1-8a8b-f5809517b5bd",
   "metadata": {},
   "source": [
    "# Conditionales\n",
    "\n",
    "### In this notebook:\n",
    "0. Ejemplo motivación\n",
    "1. Operaciones Lógicas\n",
    "2. Condicionales"
   ]
  },
  {
   "cell_type": "markdown",
   "id": "c6b9341a-c2ec-4c7a-83d8-7392acce052d",
   "metadata": {},
   "source": [
    "## 0. Ejemplo"
   ]
  },
  {
   "cell_type": "code",
   "execution_count": 9,
   "id": "c748373e-2af3-40e3-9fb0-f82e6b76ca73",
   "metadata": {},
   "outputs": [
    {
     "name": "stdout",
     "output_type": "stream",
     "text": [
      "26.343125\n"
     ]
    }
   ],
   "source": [
    "edades = ['.',27.26, 22.12,27.51,36.58,'.','.',3,24.61,22.45,31.6,18.75,24.62,20.35,28.49,26.81,31.04,37.86,22.32,19.12]\n",
    "\n",
    "\n",
    "# Si el vector edades no tuviera '.', sería simple!!\n",
    "import numpy as np\n",
    "# pasar datos a vector de edades\n",
    "edades_clean = [27.26, 22.12,27.51,36.58,24.61,22.45,31.6,18.75,24.62,20.35,28.49,26.81,31.04,37.86,22.32,19.12]\n",
    "\n",
    "# crear numpy array para sacar el promedio\n",
    "edades_clean_np = np.array(edades_clean)\n",
    "\n",
    "# calcular promedio\n",
    "av_edades = np.mean(edades_clean_np)\n",
    "\n",
    "print(av_edades)"
   ]
  },
  {
   "cell_type": "markdown",
   "id": "7cbf2451-e3f1-47e6-b48e-0ffa9e096bc9",
   "metadata": {},
   "source": [
    "## 1. Operaciones Lógicas\n",
    "\n",
    "Expresiones booleanas son expresiones que pueden ser True (1) or False (0)"
   ]
  },
  {
   "cell_type": "markdown",
   "id": "e793def5-a460-4bef-b423-a1ee1e16420c",
   "metadata": {},
   "source": [
    "### Operadores relacionales"
   ]
  },
  {
   "cell_type": "code",
   "execution_count": 3,
   "id": "2bc38959-a8aa-481b-8135-189ad23a1836",
   "metadata": {},
   "outputs": [
    {
     "name": "stdout",
     "output_type": "stream",
     "text": [
      "True\n"
     ]
    }
   ],
   "source": [
    "x=1 # la variable ejemplo\n",
    "\n",
    "print(x<=2) #Es x menor o igual a 2?\n"
   ]
  },
  {
   "cell_type": "code",
   "execution_count": 2,
   "id": "954420c6-4d39-4b1e-8109-2c445c7a8f8f",
   "metadata": {},
   "outputs": [
    {
     "name": "stdout",
     "output_type": "stream",
     "text": [
      "False\n"
     ]
    }
   ],
   "source": [
    "print(x<0) #es x menor que 0?"
   ]
  },
  {
   "cell_type": "code",
   "execution_count": 3,
   "id": "b7b3e1d5-c62a-4083-bda6-490ba3c8894d",
   "metadata": {},
   "outputs": [
    {
     "name": "stdout",
     "output_type": "stream",
     "text": [
      "True\n"
     ]
    }
   ],
   "source": [
    "print(x==1) #Es x igual a 1?"
   ]
  },
  {
   "cell_type": "markdown",
   "id": "f41d71d2-70e6-494d-a493-17b67837ccfe",
   "metadata": {},
   "source": [
    "## 2. Condicionales\n",
    "Implementado la instrucción **if**"
   ]
  },
  {
   "cell_type": "code",
   "execution_count": 16,
   "id": "ca50ceb3-0805-4948-b298-2837152aa9cd",
   "metadata": {},
   "outputs": [],
   "source": [
    "# Tomar una accion si la temperatura es muy baja\n",
    "temp_hoy=15;\n",
    "\n",
    "if temp_hoy<=10:\n",
    "    print('Salga con chaqueta')\n",
    "\n",
    "#print('Estoy fuera del if')"
   ]
  },
  {
   "cell_type": "code",
   "execution_count": 15,
   "id": "d72cecd0-c7ec-4041-91a0-f6ef73366bcd",
   "metadata": {},
   "outputs": [
    {
     "name": "stdout",
     "output_type": "stream",
     "text": [
      "Salga con paraguas\n"
     ]
    }
   ],
   "source": [
    "# Tomar una accion si esta lloviendo\n",
    "lluvia=True;\n",
    "\n",
    "if lluvia:\n",
    "    print('Salga con paraguas')"
   ]
  },
  {
   "cell_type": "code",
   "execution_count": 5,
   "id": "682756ac-0d36-4a07-97a6-a778c00e7756",
   "metadata": {
    "scrolled": true
   },
   "outputs": [
    {
     "name": "stdout",
     "output_type": "stream",
     "text": [
      "Salga con paraguas y chaqueta\n"
     ]
    }
   ],
   "source": [
    "# Tomar una accion si esta lloviendo y hace frio\n",
    "lluvia=True;\n",
    "temp_hoy=5;\n",
    "\n",
    "if lluvia and temp_hoy<=10:\n",
    "    print('Salga con paraguas y chaqueta')"
   ]
  },
  {
   "cell_type": "code",
   "execution_count": 7,
   "id": "9b56ae1e-1586-48fb-be2f-54cabeeefdcd",
   "metadata": {},
   "outputs": [
    {
     "name": "stdout",
     "output_type": "stream",
     "text": [
      "Salga con polera\n"
     ]
    }
   ],
   "source": [
    "#What if it's too warm?\n",
    "temp_today=15\n",
    "\n",
    "if temp_today<=10:\n",
    "    print('Salga con chaqueta')\n",
    "elif temp_today>30:\n",
    "    print('Salga con sombrero')\n",
    "else:\n",
    "    print('Salga con polera')\n"
   ]
  },
  {
   "cell_type": "markdown",
   "id": "7e1bd6bf-08d5-4a22-ac10-75847665ee24",
   "metadata": {},
   "source": [
    "## Ejercicio"
   ]
  },
  {
   "cell_type": "code",
   "execution_count": 3,
   "id": "8548f7b8-9234-498a-a3ee-b65456915006",
   "metadata": {},
   "outputs": [],
   "source": [
    "## imprimir \"Es medio dia\"\n",
    "hora_dia=11\n",
    "if hora_dia==12:\n",
    "    print('Es medio dia!')"
   ]
  },
  {
   "cell_type": "code",
   "execution_count": 10,
   "id": "7afb9c41-2af6-46bc-855c-77e00c607f67",
   "metadata": {},
   "outputs": [
    {
     "name": "stdout",
     "output_type": "stream",
     "text": [
      "Buenas noches\n",
      "Estoy fuera del if\n"
     ]
    }
   ],
   "source": [
    "## Imprimir saludo dependiendo de la hora\n",
    "hora_dia=24\n",
    "\n",
    "if hora_dia<12:\n",
    "    print('Buenos dias')\n",
    "elif hora_dia<20:\n",
    "    print('Buenas tardes')\n",
    "else:\n",
    "    print('Buenas noches')\n",
    "    \n",
    "print('Estoy fuera del if')"
   ]
  },
  {
   "cell_type": "markdown",
   "id": "0fda470d-487d-487e-b37e-a4b7f16a1f7a",
   "metadata": {},
   "source": [
    "Podemos combinar condiciones usando operaciones lógicas"
   ]
  },
  {
   "cell_type": "code",
   "execution_count": 12,
   "id": "eee6fecb-7330-4778-af75-31b07ac39af6",
   "metadata": {},
   "outputs": [
    {
     "name": "stdout",
     "output_type": "stream",
     "text": [
      "Pongase botas\n"
     ]
    }
   ],
   "source": [
    "rain=True\n",
    "snow=True\n",
    "\n",
    "if rain or snow:\n",
    "    print('Pongase botas')"
   ]
  },
  {
   "cell_type": "markdown",
   "id": "99d33f7b-c7d2-47da-8a59-9fb1779d252f",
   "metadata": {},
   "source": [
    "## Ejercicio"
   ]
  },
  {
   "cell_type": "code",
   "execution_count": 17,
   "id": "2ae7a58c-56eb-43a1-ad14-4294b892bf76",
   "metadata": {},
   "outputs": [
    {
     "name": "stdout",
     "output_type": "stream",
     "text": [
      "Hora incorrecta\n"
     ]
    }
   ],
   "source": [
    "# Verificar que la hora del dia es correcta\n",
    "hora_dia=100\n",
    "if hora_dia>24 or hora_dia<0:\n",
    "    print('Hora incorrecta')\n",
    "\n",
    "#######################\n",
    "#Alternativa\n",
    "#######################    \n",
    "#if hora_dia>24:\n",
    "#    print('Hora incorrecta')\n",
    "#elif hora_dia<0:\n",
    "#    print('Hora incorrecta')\n",
    "    \n",
    "#######################    \n",
    "## Alternativa \n",
    "#######################\n",
    "    \n",
    "#if not(hora_dia<=24 and hora_dia>0):\n",
    "#    print('Hora incorrecta')"
   ]
  },
  {
   "cell_type": "code",
   "execution_count": 21,
   "id": "dac1d657-392c-41bd-ad01-d4f38f6130aa",
   "metadata": {},
   "outputs": [],
   "source": [
    "# Definir variable H correcta\n",
    "if hora_dia<=24 and hora_dia>=0:\n",
    "    Hcorrecta=True\n",
    "else:\n",
    "    Hcorrecta=False\n",
    "    "
   ]
  },
  {
   "cell_type": "code",
   "execution_count": 19,
   "id": "7e4670d2-458b-42dc-9834-37ee037a00e1",
   "metadata": {},
   "outputs": [
    {
     "name": "stdout",
     "output_type": "stream",
     "text": [
      "Error: hora menor que 0\n"
     ]
    }
   ],
   "source": [
    "# por que la hora es incorrecta?\n",
    "if hora_dia>24:\n",
    "    print('Error: hora mayor que 24')\n",
    "elif hora_dia<0:\n",
    "    print('Error: hora menor que 0')"
   ]
  },
  {
   "cell_type": "code",
   "execution_count": 22,
   "id": "a4bc8dd5-c07f-448d-b19a-0fdfcb366b03",
   "metadata": {},
   "outputs": [
    {
     "name": "stdout",
     "output_type": "stream",
     "text": [
      "Error: Hora incorrecta\n"
     ]
    }
   ],
   "source": [
    "if hora_dia<12 and Hcorrecta:\n",
    "    print('Buenos dias')\n",
    "elif hora_dia<20 and Hcorrecta:\n",
    "    print('Buenas tardes')\n",
    "elif Hcorrecta:\n",
    "    print('Buenas noches')\n",
    "else:\n",
    "    print('Error: Hora incorrecta')"
   ]
  },
  {
   "cell_type": "markdown",
   "id": "a45e1d1b-32bd-4e7b-9d36-901a89781979",
   "metadata": {},
   "source": [
    "## Ejemplo: Cómo calcular  el promedio de las edades cuando hay 1 punto"
   ]
  },
  {
   "cell_type": "code",
   "execution_count": 45,
   "id": "c2d3d697-1290-4edf-b0f6-baa266db9235",
   "metadata": {
    "scrolled": true
   },
   "outputs": [
    {
     "name": "stdout",
     "output_type": "stream",
     "text": [
      "[nan, 27.26, 22.12, 27.51, 36.58, 24.61, 22.45, 31.6, 18.75, 24.62, 20.35, 28.49, 26.81, 31.04, 37.86, 22.32, 19.12] \n",
      "\n",
      "El promedio es = 26.343125 \n",
      "\n"
     ]
    }
   ],
   "source": [
    "#como remover el punto?\n",
    "\n",
    "edades = ['.',27.26, 22.12,27.51,36.58,\n",
    "          24.61,22.45,31.6,18.75,24.62,20.35,\n",
    "          28.49,26.81,31.04,37.86,22.32,19.12]\n",
    "\n",
    "# Alternativa 1: Si sabemos el indice del \n",
    "# elemento donde podria estar el punto\n",
    "\n",
    "if edades[0]=='.':\n",
    "    edades[0]=np.nan\n",
    "\n",
    "print(edades,'\\n')\n",
    "\n",
    "# Pasar lista a np array y calcular promedio\n",
    "import numpy as np\n",
    "edades_np=np.array(edades)\n",
    "\n",
    "print('El promedio es =',np.nanmean(edades_np),'\\n')"
   ]
  },
  {
   "cell_type": "code",
   "execution_count": 42,
   "id": "60e1244f-0296-4fad-a6f9-64408f9721a3",
   "metadata": {},
   "outputs": [
    {
     "name": "stdout",
     "output_type": "stream",
     "text": [
      "Hay  1 puntos \n",
      "\n",
      "[27.26, 22.12, 27.51, 36.58, 24.61, 22.45, 31.6, 18.75, 24.62, 20.35, 28.49, 26.81, 31.04, 37.86, 22.32, 19.12] \n",
      "\n",
      "El promedio es = 26.343125 \n",
      "\n"
     ]
    }
   ],
   "source": [
    "edades = ['.',27.26, 22.12,27.51,36.58,\n",
    "          24.61,22.45,31.6,18.75,24.62,20.35,\n",
    "          28.49,26.81,31.04,37.86,22.32,19.12]\n",
    "# Alernativa 2: cuantos puntos hay en edades?\n",
    "count = edades.count('.')\n",
    "print('Hay ',count,'puntos \\n')\n",
    "\n",
    "## borrar el primer punto\n",
    "if count>0:\n",
    "    edades.remove('.')\n",
    "    print(edades,'\\n')\n",
    "    \n",
    "edades_clean=np.array(edades)\n",
    "print('El promedio es =',np.nanmean(edades_clean),'\\n')"
   ]
  },
  {
   "cell_type": "markdown",
   "id": "f283ed41-2dfe-40bf-b9df-508be6afac92",
   "metadata": {},
   "source": [
    "## Indexing"
   ]
  },
  {
   "cell_type": "markdown",
   "id": "ecf3cdad-601a-49d8-97bc-bc4241484fcc",
   "metadata": {},
   "source": [
    "Operaciones relacionales también funcionan con arreglos"
   ]
  },
  {
   "cell_type": "code",
   "execution_count": 7,
   "id": "1de555ca-bec7-493d-b887-8e61d4215d7c",
   "metadata": {},
   "outputs": [
    {
     "name": "stdout",
     "output_type": "stream",
     "text": [
      "[1 2 3 4 5 6 7 8]\n",
      "[ True  True  True  True False False False False]\n"
     ]
    }
   ],
   "source": [
    "import numpy as np\n",
    "X=np.arange(1,9)\n",
    "print(X)\n",
    "print(X<5)"
   ]
  },
  {
   "cell_type": "code",
   "execution_count": 8,
   "id": "e6e84076-3f4d-4e85-a187-2c2af4ad2196",
   "metadata": {},
   "outputs": [
    {
     "name": "stdout",
     "output_type": "stream",
     "text": [
      "[1 2 3 4]\n"
     ]
    }
   ],
   "source": [
    "# How is this useful?\n",
    "# e.g. selecting specific elements of an array\n",
    "idx=X<5\n",
    "print(X[idx])"
   ]
  },
  {
   "cell_type": "code",
   "execution_count": 20,
   "id": "5893be04-87cd-4c23-93b7-206c4b11dde7",
   "metadata": {},
   "outputs": [
    {
     "data": {
      "text/plain": [
       "[<matplotlib.lines.Line2D at 0x1de284fc690>]"
      ]
     },
     "execution_count": 20,
     "metadata": {},
     "output_type": "execute_result"
    },
    {
     "data": {
      "image/png": "[encoded data removed]",
      "text/plain": [
       "<Figure size 640x480 with 1 Axes>"
      ]
     },
     "metadata": {},
     "output_type": "display_data"
    }
   ],
   "source": [
    "import numpy as np\n",
    "import matplotlib.pyplot as plt\n",
    "\n",
    "Tiempo = np.arange(100)\n",
    "Concentracion=np.exp(-Tiempo/10)\n",
    "\n",
    "# Graficar la concentracion en el tiempo\n",
    "plt.plot(Tiempo,Concentracion,'o-')\n",
    "plt.xlabel('Tiempo [s]')\n",
    "plt.ylabel('Concentracion A')\n",
    "\n",
    "## cuando la concentracion baja de 0.4?\n",
    "Bajo04 = (Concentracion < 0.4)\n",
    "plt.plot(Tiempo[Bajo04],Concentracion[Bajo04],'*')"
   ]
  },
  {
   "cell_type": "code",
   "execution_count": 75,
   "id": "e9e7aba7-bf5e-4328-9480-e0d18f0ade62",
   "metadata": {},
   "outputs": [
    {
     "name": "stdout",
     "output_type": "stream",
     "text": [
      "[10 11 12 13 14 15 16]\n"
     ]
    },
    {
     "data": {
      "text/plain": [
       "Text(0, 0.5, 'Concentracion A')"
      ]
     },
     "execution_count": 75,
     "metadata": {},
     "output_type": "execute_result"
    },
    {
     "data": {
      "image/png": "[encoded data removed]",
      "text/plain": [
       "<Figure size 640x480 with 1 Axes>"
      ]
     },
     "metadata": {},
     "output_type": "display_data"
    }
   ],
   "source": [
    "## cuando la concentracion esta entre 0.4 y 0.2?\n",
    "rango = (Concentracion < 0.4) & (Concentracion > 0.2)\n",
    "\n",
    "print(Tiempo[rango])\n",
    "\n",
    "plt.plot(Tiempo,Concentracion,'o-')\n",
    "plt.plot(Tiempo[rango],Concentracion[rango],'o-')\n",
    "plt.xlabel('Tiempo [s]')\n",
    "plt.ylabel('Concentracion A')"
   ]
  },
  {
   "cell_type": "code",
   "execution_count": null,
   "id": "d3a2e567-f139-46d9-ad72-bf048e9fcdd1",
   "metadata": {},
   "outputs": [],
   "source": []
  }
 ],
 "metadata": {
  "kernelspec": {
   "display_name": "Python 3 (ipykernel)",
   "language": "python",
   "name": "python3"
  },
  "language_info": {
   "codemirror_mode": {
    "name": "ipython",
    "version": 3
   },
   "file_extension": ".py",
   "mimetype": "text/x-python",
   "name": "python",
   "nbconvert_exporter": "python",
   "pygments_lexer": "ipython3",
   "version": "3.11.4"
  }
 },
 "nbformat": 4,
 "nbformat_minor": 5
}

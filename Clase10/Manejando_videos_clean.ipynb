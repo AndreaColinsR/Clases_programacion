{
 "cells": [
  {
   "cell_type": "code",
   "execution_count": 2,
   "id": "d52ab987-1176-4485-8ad0-7285c8d8741a",
   "metadata": {},
   "outputs": [],
   "source": [
    "## Importar cv2: libreria para manejar videos\n",
    "import cv2 \n",
    "import numpy as np\n",
    "import matplotlib.pyplot as plt"
   ]
  },
  {
   "cell_type": "code",
   "execution_count": null,
   "id": "e096f297-08ab-4f02-8935-92890c0b8de4",
   "metadata": {},
   "outputs": [],
   "source": [
    "#Abrir video 'Whisker_video1.mp4'\n",
    "cap = cv2.VideoCapture('Whisker_video1.mp4')\n",
    "\n",
    "# Checkear que el video fue abierto correctamente\n",
    "if cap.isOpened():\n",
    "    print('El video fue abierto correctamente')\n",
    "else:\n",
    "    print('Error: No se pudo abrir el video')\n"
   ]
  },
  {
   "cell_type": "code",
   "execution_count": null,
   "id": "5ac94458-5908-4479-ae44-891f1d12e0fe",
   "metadata": {},
   "outputs": [],
   "source": [
    "# leer el primer cuadro\n",
    "ret, frame = cap.read()\n",
    "plt.ion()\n",
    "fig = plt.figure()\n",
    "if ret == True:\n",
    "    plt.imshow(frame)\n",
    "    plt.show()"
   ]
  },
  {
   "cell_type": "code",
   "execution_count": 4,
   "id": "20184230-06c1-4876-864a-5dd8679c2d9c",
   "metadata": {},
   "outputs": [],
   "source": [
    "# Leer todos los cuadros y reproducir el video\n",
    "cap = cv2.VideoCapture('Whisker_video1.mp4')\n",
    "\n",
    "while cap.isOpened():\n",
    "# Leer el cuadro actual\n",
    "    ret, frame = cap.read()\n",
    "    if ret == True:\n",
    "    # Mostrar el cuadro actual\n",
    "        cv2.imshow('Frame', frame)\n",
    "        cv2.waitKey(300)\n",
    "  \n",
    "    # Si no puede leer el cuadro, romper el ciclo\n",
    "    else:\n",
    "        break\n",
    "  \n",
    "# Cuando el video termina\n",
    "# liberar el objeto del video\n",
    "cap.release()\n",
    "  \n",
    "# Cerrar la ventana del video\n",
    "cv2.destroyAllWindows()"
   ]
  },
  {
   "cell_type": "code",
   "execution_count": null,
   "id": "fdbfcda8-040c-4f72-a268-9a15fa21e86e",
   "metadata": {},
   "outputs": [],
   "source": [
    "# Leer todos los cuadros y reproducir el video\n",
    "import numpy as np\n",
    "from IPython import display\n",
    "import time\n",
    "\n",
    "cap = cv2.VideoCapture('Whisker_video1.mp4')\n",
    "\n",
    "while(cap.isOpened()):\n",
    "    # Leer el cuadro actual\n",
    "    ret, frame = cap.read()\n",
    "    \n",
    "    if ret == True:\n",
    "        \n",
    "        # Mostrar el cuadro actual)  \n",
    "        plt.imshow(frame)\n",
    "\n",
    "        display.display(plt.gcf())\n",
    "        display.clear_output(wait=True)\n",
    "        time.sleep(0.1)\n",
    "  \n",
    "    # Si no puede leer el cuadro, romper el ciclo\n",
    "    else:\n",
    "        break\n",
    "  \n",
    "# Cuando el video termina\n",
    "# liberar el objeto del video\n",
    "cap.release()\n",
    "  \n",
    "# Cerrar la ventana del video\n",
    "cv2.destroyAllWindows()"
   ]
  },
  {
   "cell_type": "code",
   "execution_count": null,
   "id": "0dac2bfc-b71c-4070-a5ef-46beca0e8497",
   "metadata": {},
   "outputs": [],
   "source": [
    "# Leer todos los cuadros y reproducir el video\n",
    "import numpy as np\n",
    "from IPython import display\n",
    "import time\n",
    "\n",
    "cap = cv2.VideoCapture('Whisker_video1.mp4')\n",
    "\n",
    "while(cap.isOpened()):\n",
    "    # Leer el cuadro actual\n",
    "    ret, frame = cap.read()\n",
    "    \n",
    "    if ret == True:\n",
    "        # Seleccionar solo el area de interes\n",
    "        Subframe=frame[:500,300:800,:]\n",
    "        SubframeBW=np.mean(Subframe,axis=2)\n",
    "        max_ind=np.argmin(SubframeBW[0:400,:],axis=1)\n",
    "        \n",
    "        # Mostrar el cuadro actual)  \n",
    "        plt.imshow(Subframe)\n",
    "        plt.plot(max_ind,np.arange(len(max_ind)))\n",
    "        display.display(plt.gcf())\n",
    "        display.clear_output(wait=True)\n",
    "        time.sleep(0.1)\n",
    "  \n",
    "    # Si no puede leer el cuadro, romper el ciclo\n",
    "    else:\n",
    "        break\n",
    "  \n",
    "# Cuando el video termina\n",
    "# liberar el objeto del video\n",
    "cap.release()\n",
    "  \n",
    "# Cerrar la ventana del video\n",
    "cv2.destroyAllWindows()"
   ]
  },
  {
   "cell_type": "code",
   "execution_count": null,
   "id": "3055653a-3a30-43ad-83fd-fadf5d51cb81",
   "metadata": {},
   "outputs": [],
   "source": []
  }
 ],
 "metadata": {
  "kernelspec": {
   "display_name": "Python 3 (ipykernel)",
   "language": "python",
   "name": "python3"
  },
  "language_info": {
   "codemirror_mode": {
    "name": "ipython",
    "version": 3
   },
   "file_extension": ".py",
   "mimetype": "text/x-python",
   "name": "python",
   "nbconvert_exporter": "python",
   "pygments_lexer": "ipython3",
   "version": "3.11.4"
  }
 },
 "nbformat": 4,
 "nbformat_minor": 5
}
